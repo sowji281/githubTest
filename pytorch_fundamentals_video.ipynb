{
  "nbformat": 4,
  "nbformat_minor": 0,
  "metadata": {
    "colab": {
      "provenance": [],
      "authorship_tag": "ABX9TyP8jWfmXURx8ZsgIeBDhiDe",
      "include_colab_link": true
    },
    "kernelspec": {
      "name": "python3",
      "display_name": "Python 3"
    },
    "language_info": {
      "name": "python"
    },
    "gpuClass": "standard"
  },
  "cells": [
    {
      "cell_type": "markdown",
      "metadata": {
        "id": "view-in-github",
        "colab_type": "text"
      },
      "source": [
        "<a href=\"https://colab.research.google.com/github/sowji281/githubTest/blob/main/pytorch_fundamentals_video.ipynb\" target=\"_parent\"><img src=\"https://colab.research.google.com/assets/colab-badge.svg\" alt=\"Open In Colab\"/></a>"
      ]
    },
    {
      "cell_type": "code",
      "execution_count": 1,
      "metadata": {
        "colab": {
          "base_uri": "https://localhost:8080/"
        },
        "id": "rUMPl1zYEoUO",
        "outputId": "ad734103-1659-4d48-e62c-69080bb3fa13"
      },
      "outputs": [
        {
          "output_type": "stream",
          "name": "stdout",
          "text": [
            "hello\n"
          ]
        }
      ],
      "source": [
        " print(\"hello\")"
      ]
    },
    {
      "cell_type": "markdown",
      "source": [
        "## pytorch_fundamentals\n",
        "resource notebook : https://www.learnpytorch.io/00_pytorch_fundamentals/\n"
      ],
      "metadata": {
        "id": "FPW4q1q4GNIl"
      }
    },
    {
      "cell_type": "markdown",
      "source": [
        "import torch\n",
        "import numpy as  np\n",
        "import pandas as pd \n",
        "print(torch.__version__)"
      ],
      "metadata": {
        "id": "KfZdhe3PG9Sk"
      }
    },
    {
      "cell_type": "code",
      "source": [
        "import torch\n",
        "import numpy as  np\n",
        "import pandas as pd \n",
        "import matplotlib.pyplot as plt\n",
        "print(torch.__version__)"
      ],
      "metadata": {
        "colab": {
          "base_uri": "https://localhost:8080/"
        },
        "id": "7TvkSDG_Hdx4",
        "outputId": "e955384d-9ae5-42c5-b2ba-db15a091014e"
      },
      "execution_count": 2,
      "outputs": [
        {
          "output_type": "stream",
          "name": "stdout",
          "text": [
            "1.13.1+cu116\n"
          ]
        }
      ]
    },
    {
      "cell_type": "code",
      "source": [],
      "metadata": {
        "id": "Xzcjej7iKj3O"
      },
      "execution_count": 2,
      "outputs": []
    },
    {
      "cell_type": "code",
      "source": [
        "!nvidia-smi"
      ],
      "metadata": {
        "colab": {
          "base_uri": "https://localhost:8080/"
        },
        "id": "RY9qhT_JFkbi",
        "outputId": "e37d5d31-4560-4a10-8a3f-b14072c44d66"
      },
      "execution_count": 3,
      "outputs": [
        {
          "output_type": "stream",
          "name": "stdout",
          "text": [
            "NVIDIA-SMI has failed because it couldn't communicate with the NVIDIA driver. Make sure that the latest NVIDIA driver is installed and running.\n",
            "\n"
          ]
        }
      ]
    },
    {
      "cell_type": "markdown",
      "source": [
        "## introduction to tensors\n",
        "\n",
        "### creating tensor \n",
        "pytorch tensors are created using torch.tensor() :https://pytorch.org/docs/stable/tensors.html"
      ],
      "metadata": {
        "id": "1S3lOdMMMaSJ"
      }
    },
    {
      "cell_type": "code",
      "source": [
        "# scalar\n",
        "scalar = torch.tensor(7)\n",
        "scalar\n"
      ],
      "metadata": {
        "colab": {
          "base_uri": "https://localhost:8080/"
        },
        "id": "jyjAB-WOLF1G",
        "outputId": "7ee3e7de-c6ad-4612-b739-75b552d84cae"
      },
      "execution_count": 4,
      "outputs": [
        {
          "output_type": "execute_result",
          "data": {
            "text/plain": [
              "tensor(7)"
            ]
          },
          "metadata": {},
          "execution_count": 4
        }
      ]
    },
    {
      "cell_type": "code",
      "source": [
        "scalar.ndim"
      ],
      "metadata": {
        "colab": {
          "base_uri": "https://localhost:8080/"
        },
        "id": "r_UeA3G_MCWz",
        "outputId": "181c0f7a-c53f-4957-b92a-7164ffedb032"
      },
      "execution_count": 5,
      "outputs": [
        {
          "output_type": "execute_result",
          "data": {
            "text/plain": [
              "0"
            ]
          },
          "metadata": {},
          "execution_count": 5
        }
      ]
    },
    {
      "cell_type": "code",
      "source": [
        "scalar.item()\n"
      ],
      "metadata": {
        "colab": {
          "base_uri": "https://localhost:8080/"
        },
        "id": "zqlAbqMnMCbX",
        "outputId": "80bf797f-1ceb-4ab5-c346-f2acba411747"
      },
      "execution_count": 6,
      "outputs": [
        {
          "output_type": "execute_result",
          "data": {
            "text/plain": [
              "7"
            ]
          },
          "metadata": {},
          "execution_count": 6
        }
      ]
    },
    {
      "cell_type": "code",
      "source": [
        "#vector \n",
        "vector  =torch.tensor([2,5])\n",
        "vector "
      ],
      "metadata": {
        "colab": {
          "base_uri": "https://localhost:8080/"
        },
        "id": "CpPdJMRANiqw",
        "outputId": "3ea2fd9e-d158-47d5-a933-4f3cc209ddf5"
      },
      "execution_count": 7,
      "outputs": [
        {
          "output_type": "execute_result",
          "data": {
            "text/plain": [
              "tensor([2, 5])"
            ]
          },
          "metadata": {},
          "execution_count": 7
        }
      ]
    },
    {
      "cell_type": "code",
      "source": [
        "vector.ndim"
      ],
      "metadata": {
        "colab": {
          "base_uri": "https://localhost:8080/"
        },
        "id": "Fs6aZNhcNitN",
        "outputId": "928f9ffc-066c-4083-94fe-399207ba58f1"
      },
      "execution_count": 8,
      "outputs": [
        {
          "output_type": "execute_result",
          "data": {
            "text/plain": [
              "1"
            ]
          },
          "metadata": {},
          "execution_count": 8
        }
      ]
    },
    {
      "cell_type": "code",
      "source": [
        "vector.shape"
      ],
      "metadata": {
        "colab": {
          "base_uri": "https://localhost:8080/"
        },
        "id": "BoXNxqajNiu8",
        "outputId": "08048878-92c1-442a-9350-b7bc0047203d"
      },
      "execution_count": 9,
      "outputs": [
        {
          "output_type": "execute_result",
          "data": {
            "text/plain": [
              "torch.Size([2])"
            ]
          },
          "metadata": {},
          "execution_count": 9
        }
      ]
    },
    {
      "cell_type": "code",
      "source": [
        "#MATRIX\n",
        "matrix= torch.tensor([[7,8],\n",
        "                      [10,5]])\n",
        "matrix"
      ],
      "metadata": {
        "colab": {
          "base_uri": "https://localhost:8080/"
        },
        "id": "aEsE3kAeNiyq",
        "outputId": "06a1c130-fb81-4991-8fe2-fb4216d535d0"
      },
      "execution_count": 10,
      "outputs": [
        {
          "output_type": "execute_result",
          "data": {
            "text/plain": [
              "tensor([[ 7,  8],\n",
              "        [10,  5]])"
            ]
          },
          "metadata": {},
          "execution_count": 10
        }
      ]
    },
    {
      "cell_type": "code",
      "source": [
        "matrix.ndim\n"
      ],
      "metadata": {
        "colab": {
          "base_uri": "https://localhost:8080/"
        },
        "id": "WQu-BlPoPI8Q",
        "outputId": "30c6d4d4-5e65-4b9c-ed77-8a6f4d5cd410"
      },
      "execution_count": 11,
      "outputs": [
        {
          "output_type": "execute_result",
          "data": {
            "text/plain": [
              "2"
            ]
          },
          "metadata": {},
          "execution_count": 11
        }
      ]
    },
    {
      "cell_type": "code",
      "source": [
        "matrix[0]"
      ],
      "metadata": {
        "colab": {
          "base_uri": "https://localhost:8080/"
        },
        "id": "5bRuzNlQPI-a",
        "outputId": "f4c8b8c3-7256-4ab2-b547-9b1e7e5d14a6"
      },
      "execution_count": 12,
      "outputs": [
        {
          "output_type": "execute_result",
          "data": {
            "text/plain": [
              "tensor([7, 8])"
            ]
          },
          "metadata": {},
          "execution_count": 12
        }
      ]
    },
    {
      "cell_type": "code",
      "source": [
        "matrix.shape"
      ],
      "metadata": {
        "colab": {
          "base_uri": "https://localhost:8080/"
        },
        "id": "pKDPQdUWPJA8",
        "outputId": "04e72d18-6f28-4462-b2d2-e943a8239469"
      },
      "execution_count": 13,
      "outputs": [
        {
          "output_type": "execute_result",
          "data": {
            "text/plain": [
              "torch.Size([2, 2])"
            ]
          },
          "metadata": {},
          "execution_count": 13
        }
      ]
    },
    {
      "cell_type": "code",
      "source": [
        "#tensor\n",
        "tensor= torch.tensor([[[1,2,3],\n",
        "                       [4,5,6],\n",
        "                       [7,8,9]]])\n",
        "tensor"
      ],
      "metadata": {
        "colab": {
          "base_uri": "https://localhost:8080/"
        },
        "id": "17JK2lQuPJDR",
        "outputId": "8923b49f-7e0b-4179-93b8-2922489e4253"
      },
      "execution_count": 14,
      "outputs": [
        {
          "output_type": "execute_result",
          "data": {
            "text/plain": [
              "tensor([[[1, 2, 3],\n",
              "         [4, 5, 6],\n",
              "         [7, 8, 9]]])"
            ]
          },
          "metadata": {},
          "execution_count": 14
        }
      ]
    },
    {
      "cell_type": "code",
      "source": [
        "tensor.shape"
      ],
      "metadata": {
        "colab": {
          "base_uri": "https://localhost:8080/"
        },
        "id": "xLjURQRIPJGq",
        "outputId": "4a1a8009-1d5b-41ff-833b-0e03ebd2a4ab"
      },
      "execution_count": 15,
      "outputs": [
        {
          "output_type": "execute_result",
          "data": {
            "text/plain": [
              "torch.Size([1, 3, 3])"
            ]
          },
          "metadata": {},
          "execution_count": 15
        }
      ]
    },
    {
      "cell_type": "code",
      "source": [
        "tensor.ndim"
      ],
      "metadata": {
        "colab": {
          "base_uri": "https://localhost:8080/"
        },
        "id": "rIyKDsCtQMgl",
        "outputId": "4e7e1e96-5ec8-4476-d638-d00a7eccf495"
      },
      "execution_count": 16,
      "outputs": [
        {
          "output_type": "execute_result",
          "data": {
            "text/plain": [
              "3"
            ]
          },
          "metadata": {},
          "execution_count": 16
        }
      ]
    },
    {
      "cell_type": "code",
      "source": [
        "tensor[0,1,2]"
      ],
      "metadata": {
        "colab": {
          "base_uri": "https://localhost:8080/"
        },
        "id": "pUAewwm0QMjC",
        "outputId": "031f95c5-6aa6-441a-de16-fc6be0d9d893"
      },
      "execution_count": 17,
      "outputs": [
        {
          "output_type": "execute_result",
          "data": {
            "text/plain": [
              "tensor(6)"
            ]
          },
          "metadata": {},
          "execution_count": 17
        }
      ]
    },
    {
      "cell_type": "code",
      "source": [],
      "metadata": {
        "id": "yWKgbCFIQMlc"
      },
      "execution_count": 17,
      "outputs": []
    },
    {
      "cell_type": "markdown",
      "source": [
        "### random tensors\n",
        "random tensors ar every important because the way many neural networks learn is that start with the random numbers and then adjust those random numbers to better represent the data \n"
      ],
      "metadata": {
        "id": "ASPIXq0BSkVW"
      }
    },
    {
      "cell_type": "code",
      "source": [
        "# create a random  tensor of size(3,4)\n",
        "random_tensor = torch.rand(3,4)\n",
        "random_tensor\n"
      ],
      "metadata": {
        "colab": {
          "base_uri": "https://localhost:8080/"
        },
        "id": "zIA6hT5SQMn4",
        "outputId": "114cc990-4c73-47ec-9e79-4299bd03abd4"
      },
      "execution_count": 18,
      "outputs": [
        {
          "output_type": "execute_result",
          "data": {
            "text/plain": [
              "tensor([[0.1811, 0.3581, 0.1475, 0.8597],\n",
              "        [0.0960, 0.7930, 0.8405, 0.0505],\n",
              "        [0.6158, 0.2668, 0.9416, 0.2529]])"
            ]
          },
          "metadata": {},
          "execution_count": 18
        }
      ]
    },
    {
      "cell_type": "code",
      "source": [
        "random_tensor = torch.rand(1,10,10)\n",
        "random_tensor"
      ],
      "metadata": {
        "colab": {
          "base_uri": "https://localhost:8080/"
        },
        "id": "pKEyGR6dQMqc",
        "outputId": "7d1ad236-e2c1-448f-bdbf-17947a2bc6a1"
      },
      "execution_count": 19,
      "outputs": [
        {
          "output_type": "execute_result",
          "data": {
            "text/plain": [
              "tensor([[[5.8038e-01, 9.7725e-01, 8.7660e-01, 4.9922e-01, 9.9007e-02,\n",
              "          5.7671e-01, 2.9972e-01, 8.5323e-01, 9.1776e-02, 7.6902e-01],\n",
              "         [6.8405e-01, 7.6813e-01, 9.6703e-01, 5.9378e-01, 1.2959e-01,\n",
              "          5.9393e-01, 6.5496e-01, 6.8840e-01, 9.7509e-01, 7.2985e-01],\n",
              "         [8.3794e-01, 4.5137e-01, 3.3651e-01, 5.3423e-01, 4.5598e-01,\n",
              "          5.6302e-01, 9.5172e-01, 9.3119e-01, 7.8295e-01, 5.1139e-01],\n",
              "         [4.3527e-01, 2.4747e-01, 7.7824e-02, 1.4687e-01, 5.3184e-01,\n",
              "          8.1014e-01, 9.9878e-01, 4.9132e-01, 3.3107e-01, 6.0773e-01],\n",
              "         [8.3533e-01, 1.9600e-01, 6.5018e-02, 5.3043e-01, 6.6215e-01,\n",
              "          5.9512e-01, 3.3223e-01, 7.4228e-02, 5.3052e-01, 3.5651e-01],\n",
              "         [6.8768e-01, 3.0275e-01, 8.2487e-04, 4.6556e-01, 8.5119e-01,\n",
              "          9.0491e-01, 9.3318e-01, 9.4180e-01, 7.4495e-01, 8.2844e-01],\n",
              "         [2.6014e-01, 4.0947e-01, 8.8129e-01, 9.8551e-01, 3.7689e-01,\n",
              "          7.6926e-02, 1.9333e-01, 9.9338e-01, 1.8299e-01, 9.0785e-02],\n",
              "         [1.8594e-01, 1.8259e-01, 8.8967e-01, 5.7892e-02, 9.7649e-01,\n",
              "          7.0899e-01, 7.9292e-01, 1.5129e-01, 4.3230e-01, 7.3450e-02],\n",
              "         [6.4130e-02, 7.5152e-02, 5.6733e-02, 7.9250e-01, 4.9253e-01,\n",
              "          1.9899e-01, 5.1866e-01, 5.6699e-01, 3.1510e-01, 5.4889e-01],\n",
              "         [4.6616e-01, 7.8344e-01, 3.1306e-01, 9.4176e-01, 8.3162e-01,\n",
              "          6.9204e-01, 3.6346e-01, 6.4743e-01, 1.5271e-01, 4.2296e-01]]])"
            ]
          },
          "metadata": {},
          "execution_count": 19
        }
      ]
    },
    {
      "cell_type": "code",
      "source": [
        "random_tensor.ndim"
      ],
      "metadata": {
        "colab": {
          "base_uri": "https://localhost:8080/"
        },
        "id": "3uK6nXyxQMsu",
        "outputId": "c0fd8bbb-7c85-4419-fec7-94eb2fbbbd68"
      },
      "execution_count": 20,
      "outputs": [
        {
          "output_type": "execute_result",
          "data": {
            "text/plain": [
              "3"
            ]
          },
          "metadata": {},
          "execution_count": 20
        }
      ]
    },
    {
      "cell_type": "code",
      "source": [
        "# create a random tensor with similar shape to an image tensor \n",
        "random_image_size_tensor = torch.rand(size=(224,224,3)) # height,width,color\n",
        "random_image_size_tensor.shape,random_image_size_tensor.ndim"
      ],
      "metadata": {
        "colab": {
          "base_uri": "https://localhost:8080/"
        },
        "id": "66rgZOPSQMu_",
        "outputId": "403a0b4e-fd72-455f-9501-bb51d347a7b6"
      },
      "execution_count": 21,
      "outputs": [
        {
          "output_type": "execute_result",
          "data": {
            "text/plain": [
              "(torch.Size([224, 224, 3]), 3)"
            ]
          },
          "metadata": {},
          "execution_count": 21
        }
      ]
    },
    {
      "cell_type": "code",
      "source": [
        "torch.rand(3,3)"
      ],
      "metadata": {
        "colab": {
          "base_uri": "https://localhost:8080/"
        },
        "id": "YS-lcvRZU4kJ",
        "outputId": "bb40aaf6-349d-479d-ad4b-1020f773794d"
      },
      "execution_count": 22,
      "outputs": [
        {
          "output_type": "execute_result",
          "data": {
            "text/plain": [
              "tensor([[0.2558, 0.2587, 0.2896],\n",
              "        [0.2225, 0.7684, 0.5413],\n",
              "        [0.1855, 0.5997, 0.8215]])"
            ]
          },
          "metadata": {},
          "execution_count": 22
        }
      ]
    },
    {
      "cell_type": "code",
      "source": [
        "### create all zeros and ones \n",
        "ones= torch.ones(3,4)\n",
        "ones"
      ],
      "metadata": {
        "colab": {
          "base_uri": "https://localhost:8080/"
        },
        "id": "VoujaX4SQMxV",
        "outputId": "7fafc5b3-69e4-4cce-e4e3-a162a71f7139"
      },
      "execution_count": 23,
      "outputs": [
        {
          "output_type": "execute_result",
          "data": {
            "text/plain": [
              "tensor([[1., 1., 1., 1.],\n",
              "        [1., 1., 1., 1.],\n",
              "        [1., 1., 1., 1.]])"
            ]
          },
          "metadata": {},
          "execution_count": 23
        }
      ]
    },
    {
      "cell_type": "code",
      "source": [
        "zeros= torch.zeros(3,4)\n",
        "zeros\n",
        "\n"
      ],
      "metadata": {
        "colab": {
          "base_uri": "https://localhost:8080/"
        },
        "id": "foB4bJSGQMz_",
        "outputId": "c9260f5d-0ade-4a9a-928e-74bfbfa6bfa5"
      },
      "execution_count": 24,
      "outputs": [
        {
          "output_type": "execute_result",
          "data": {
            "text/plain": [
              "tensor([[0., 0., 0., 0.],\n",
              "        [0., 0., 0., 0.],\n",
              "        [0., 0., 0., 0.]])"
            ]
          },
          "metadata": {},
          "execution_count": 24
        }
      ]
    },
    {
      "cell_type": "markdown",
      "source": [
        "### create a range of tensors and tensors -like\n"
      ],
      "metadata": {
        "id": "upGbVEHrXt5_"
      }
    },
    {
      "cell_type": "code",
      "source": [
        "#use  torch.arange() and get deprecated message,use torch.arange()\n",
        "one_to_ten=torch.arange(start=0,end=11,step=1)\n",
        "one_to_ten"
      ],
      "metadata": {
        "colab": {
          "base_uri": "https://localhost:8080/"
        },
        "id": "4LEbtjxYQM3i",
        "outputId": "6470fae4-e791-40b9-a39f-b913dcfee6f0"
      },
      "execution_count": 25,
      "outputs": [
        {
          "output_type": "execute_result",
          "data": {
            "text/plain": [
              "tensor([ 0,  1,  2,  3,  4,  5,  6,  7,  8,  9, 10])"
            ]
          },
          "metadata": {},
          "execution_count": 25
        }
      ]
    },
    {
      "cell_type": "code",
      "source": [
        "torch.__version__"
      ],
      "metadata": {
        "colab": {
          "base_uri": "https://localhost:8080/",
          "height": 35
        },
        "id": "T0DnW-igYDSO",
        "outputId": "9b103bf8-021f-4313-bd03-364ea47b397e"
      },
      "execution_count": 26,
      "outputs": [
        {
          "output_type": "execute_result",
          "data": {
            "text/plain": [
              "'1.13.1+cu116'"
            ],
            "application/vnd.google.colaboratory.intrinsic+json": {
              "type": "string"
            }
          },
          "metadata": {},
          "execution_count": 26
        }
      ]
    },
    {
      "cell_type": "code",
      "source": [
        "#crzeate tensors like\n",
        "ten_zeros= torch.zeros_like(input=one_to_ten)\n",
        "ten_zeros"
      ],
      "metadata": {
        "colab": {
          "base_uri": "https://localhost:8080/"
        },
        "id": "INLzquTXYDUR",
        "outputId": "b91d072b-0e33-477b-c8cf-d9f801b8eb6e"
      },
      "execution_count": 27,
      "outputs": [
        {
          "output_type": "execute_result",
          "data": {
            "text/plain": [
              "tensor([0, 0, 0, 0, 0, 0, 0, 0, 0, 0, 0])"
            ]
          },
          "metadata": {},
          "execution_count": 27
        }
      ]
    },
    {
      "cell_type": "code",
      "source": [
        "\n",
        "#tensor data types\n",
        "float_32_tensor  = torch.tensor([3.0,6.0,7.0],\n",
        "                                dtype=None, # what datatype is the  tensor \n",
        "                                device=None, # what device is your tensor on \n",
        "                                requires_grad=False) # whether or not to track gradients  with operations \n",
        "float_32_tensor \n",
        " "
      ],
      "metadata": {
        "colab": {
          "base_uri": "https://localhost:8080/"
        },
        "id": "KvjR8LIPYDWZ",
        "outputId": "26185e3e-3282-4ce4-b25a-88e9196a52f1"
      },
      "execution_count": 34,
      "outputs": [
        {
          "output_type": "execute_result",
          "data": {
            "text/plain": [
              "tensor([3., 6., 7.])"
            ]
          },
          "metadata": {},
          "execution_count": 34
        }
      ]
    },
    {
      "cell_type": "code",
      "source": [
        "float_32_tensor.dtype"
      ],
      "metadata": {
        "colab": {
          "base_uri": "https://localhost:8080/"
        },
        "id": "oW_YXYzYYDY1",
        "outputId": "7bb77881-e8f4-4854-aeba-956fd1623656"
      },
      "execution_count": 31,
      "outputs": [
        {
          "output_type": "execute_result",
          "data": {
            "text/plain": [
              "torch.float32"
            ]
          },
          "metadata": {},
          "execution_count": 31
        }
      ]
    },
    {
      "cell_type": "code",
      "source": [],
      "metadata": {
        "id": "PyqijHAJYDbE"
      },
      "execution_count": 27,
      "outputs": []
    },
    {
      "cell_type": "code",
      "source": [],
      "metadata": {
        "id": "ja8mklA_YDdX"
      },
      "execution_count": 27,
      "outputs": []
    },
    {
      "cell_type": "code",
      "source": [],
      "metadata": {
        "id": "jwgLy7xkYDft"
      },
      "execution_count": 27,
      "outputs": []
    },
    {
      "cell_type": "code",
      "source": [],
      "metadata": {
        "id": "nxu55ewFYDhx"
      },
      "execution_count": 27,
      "outputs": []
    },
    {
      "cell_type": "code",
      "source": [],
      "metadata": {
        "id": "g_kco8RvYDkb"
      },
      "execution_count": 27,
      "outputs": []
    },
    {
      "cell_type": "code",
      "source": [],
      "metadata": {
        "id": "Snb6_SmhYDmU"
      },
      "execution_count": 27,
      "outputs": []
    },
    {
      "cell_type": "code",
      "source": [],
      "metadata": {
        "id": "we1lG9iiYDpL"
      },
      "execution_count": 27,
      "outputs": []
    },
    {
      "cell_type": "code",
      "source": [],
      "metadata": {
        "id": "TXLY3pZMYDsc"
      },
      "execution_count": 27,
      "outputs": []
    }
  ]
}